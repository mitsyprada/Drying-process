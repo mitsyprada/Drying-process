{
 "cells": [
  {
   "cell_type": "markdown",
   "metadata": {},
   "source": [
    "# Simulation data"
   ]
  },
  {
   "cell_type": "markdown",
   "metadata": {},
   "source": [
    "Simulation of data coming from sensors and fan. The name of variables match with the references in the input_data_reference file"
   ]
  },
  {
   "cell_type": "code",
   "execution_count": 1,
   "metadata": {},
   "outputs": [],
   "source": [
    "import matplotlib.pyplot as plt\n",
    "from scipy.optimize import curve_fit\n",
    "import numpy as np\n",
    "from sklearn.neural_network import MLPRegressor\n",
    "import math\n",
    "import sklearn\n",
    "from random import *"
   ]
  },
  {
   "cell_type": "code",
   "execution_count": 22,
   "metadata": {},
   "outputs": [],
   "source": [
    "N = 50\n",
    "#temperature values are in degrees celsius\n",
    "t1 = 20 # ambient temperature coming in\n",
    "t2 = np.linspace(40,60,N)#temperature coming out of the box\n",
    "t3 = np.linspace(60,80,N)\n",
    "t4 = np.linspace(70,100,N)\n",
    "t5 = np.linspace(80,95,N)\n",
    "#humidity values in grams/m^3\n",
    "h1 = np.linspace(20,30,N)# absolute humidity in grams of water per cubic meter of air. Absolute humidity in the atmosphere ranges from near zero to roughly 30 grams per cubic metre when the air is saturated at 30 °C\n",
    "h2 = np.linspace(35,40,N)\n",
    "h3 = np.linspace(60,80,N)\n",
    "h4 = np.linspace(40,50,N)\n",
    "af = np.linspace(5,20,N)#in liters per second\n",
    "er = np.empty(N)\n",
    "f1 = np.empty(N)\n",
    "f2 = np.empty(N)\n",
    "wm = np.empty(N)\n",
    "for i in range(N): #evaporation rate, in ml/h. This is the Y value that we want to fit and predict\n",
    "    er[i] = h2[i]-h1[i] \n",
    "    f1[i] = randint(0, 1) #0 is off and 1 is on\n",
    "    f2[i] = randint(0, 1)\n",
    "    wm[i] = randint(0, 1) #0 is 0 watts, 1 is 120 watts\n",
    "    "
   ]
  },
  {
   "cell_type": "markdown",
   "metadata": {},
   "source": [
    "# MPLRegresosr - LBFGS"
   ]
  },
  {
   "cell_type": "markdown",
   "metadata": {},
   "source": [
    "We need to define what is going to be the X data and the Y data"
   ]
  },
  {
   "cell_type": "markdown",
   "metadata": {},
   "source": [
    "The X data is composed by the data of the variables that affect the evaporation rate of the towel. This means, the data coming from the wattmeter, the temperature sensors and the fans.\n"
   ]
  },
  {
   "cell_type": "code",
   "execution_count": null,
   "metadata": {},
   "outputs": [],
   "source": [
    "clf = MLPRegressor(solver='lbfgs', alpha=1e-1, hidden_layer_sizes=(10,10,10),\n",
    "                   random_state=1, max_iter=1000)\n",
    "clf.fit(X, Y)\n",
    "print('MSE: {:.2f}'.format(mean_squared_error(clf.predict(X),Y)))"
   ]
  },
  {
   "cell_type": "code",
   "execution_count": null,
   "metadata": {},
   "outputs": [],
   "source": []
  }
 ],
 "metadata": {
  "kernelspec": {
   "display_name": "Python 3",
   "language": "python",
   "name": "python3"
  },
  "language_info": {
   "codemirror_mode": {
    "name": "ipython",
    "version": 3
   },
   "file_extension": ".py",
   "mimetype": "text/x-python",
   "name": "python",
   "nbconvert_exporter": "python",
   "pygments_lexer": "ipython3",
   "version": "3.7.7"
  }
 },
 "nbformat": 4,
 "nbformat_minor": 4
}
