{
 "cells": [
  {
   "cell_type": "code",
   "execution_count": 6,
   "metadata": {},
   "outputs": [],
   "source": [
    "from fireTS.models import NARX, DirectAutoRegressor\n",
    "from sklearn.ensemble import RandomForestRegressor\n",
    "#from xgboost import XGBRegressor\n",
    "import numpy as np\n",
    "from sklearn.metrics import mean_squared_error"
   ]
  },
  {
   "cell_type": "markdown",
   "metadata": {},
   "source": [
    "Nonlinear AutoRegression with eXogenous (NARX) model\n",
    "fireTS.models.NARX model is trying to train a one-step-ahead-prediction model and make multi-step prediction recursively given the future exogenous inputs."
   ]
  },
  {
   "cell_type": "code",
   "execution_count": 10,
   "metadata": {},
   "outputs": [],
   "source": [
    "import matplotlib.pyplot as plt\n",
    "from scipy.optimize import curve_fit\n",
    "import numpy as np\n",
    "from sklearn.neural_network import MLPRegressor\n",
    "from sklearn.metrics import mean_squared_error\n",
    "from scipy.signal import savgol_filter\n",
    "import math\n",
    "import sklearn\n",
    "from random import *\n",
    "import csv\n",
    "import pandas as pd\n",
    "import datetime\n",
    "import time"
   ]
  },
  {
   "cell_type": "code",
   "execution_count": 11,
   "metadata": {},
   "outputs": [],
   "source": [
    "#read the data into list\n",
    "dt=2\n",
    "path = 'csv files with data/04-trial5.csv'\n",
    "with open(path) as csvfile:\n",
    "    reader = csv.reader(csvfile)\n",
    "    time = [row[0] for row in reader]\n",
    "with open(path) as csvfile:\n",
    "    reader = csv.reader(csvfile)\n",
    "    f1 = [row[1] for row in reader]\n",
    "with open(path) as csvfile:\n",
    "    reader = csv.reader(csvfile)\n",
    "    f2 = [row[2] for row in reader]\n",
    "with open(path) as csvfile:\n",
    "    reader = csv.reader(csvfile)\n",
    "    t1 = [row[3] for row in reader]\n",
    "with open(path) as csvfile:\n",
    "    reader = csv.reader(csvfile)\n",
    "    h1 = [row[4] for row in reader]\n",
    "with open(path) as csvfile:\n",
    "    reader = csv.reader(csvfile)\n",
    "    t2 = [row[5] for row in reader]\n",
    "with open(path) as csvfile:\n",
    "    reader = csv.reader(csvfile)\n",
    "    h2 = [row[6] for row in reader]\n",
    "with open(path) as csvfile:\n",
    "    reader = csv.reader(csvfile)\n",
    "    t3 = [row[7] for row in reader]\n",
    "with open(path) as csvfile:\n",
    "    reader = csv.reader(csvfile)\n",
    "    h4 = [row[8] for row in reader]\n",
    "with open(path) as csvfile:\n",
    "    reader = csv.reader(csvfile)\n",
    "    af = [row[9] for row in reader]\n",
    "with open(path) as csvfile:\n",
    "    reader = csv.reader(csvfile)\n",
    "    t4 = [row[10] for row in reader]\n",
    "with open(path) as csvfile:\n",
    "    reader = csv.reader(csvfile)\n",
    "    wm = [row[11] for row in reader]\n",
    "with open(path) as csvfile:\n",
    "    reader = csv.reader(csvfile)\n",
    "    t5 = [row[12] for row in reader]\n",
    "with open(path) as csvfile:\n",
    "    reader = csv.reader(csvfile)\n",
    "    h3 = [row[13] for row in reader]"
   ]
  },
  {
   "cell_type": "code",
   "execution_count": 12,
   "metadata": {},
   "outputs": [],
   "source": [
    "filter_len = 65\n",
    "filter_order = 3\n",
    "del time[0]\n",
    "time = list(map(int,time))\n",
    "del f1[0]\n",
    "f1 = list(map(float,f1))\n",
    "del f2[0]\n",
    "f2 = list(map(float,f2))\n",
    "del t1[0]\n",
    "t1 = list(map(float,t1))\n",
    "del h1[0]\n",
    "h1 = list(map(float,h1))\n",
    "del t2[0]\n",
    "t2 = list(map(float,t2))\n",
    "del h2[0]\n",
    "h2 = list(map(float,h2))\n",
    "del t3[0]\n",
    "t3 = list(map(float,t3))\n",
    "t3 = savgol_filter(t3,filter_len,filter_order)  # smoothing filter of fourth order\n",
    "del h4[0]\n",
    "h4 = list(map(float,h4))\n",
    "del af[0]\n",
    "af = list(map(float,af))\n",
    "af = savgol_filter(af,filter_len,filter_order)  # smoothing filter of fourth order\n",
    "del t4[0]\n",
    "t4 = list(map(float,t4))\n",
    "del wm[0]\n",
    "wm = list(map(float,wm))\n",
    "del t5[0]\n",
    "t5 = list(map(float,t5))\n",
    "del h3[0]\n",
    "h3 = list(map(float,h3))\n",
    "h3 = savgol_filter(h3,filter_len,filter_order)  # smoothing filter of fourth order\n",
    "er=np.empty((len(t5)))\n",
    "\n",
    "for i in range(1,len(h3),1): #evaporation rate, in ml/h. This is the Y value that we want to fit and predict\n",
    "    # evaporation rate must be calculated to amount of water leaving the towel\n",
    "    # for that the measurement h3 is calibrated to weight of water\n",
    "    er[i] = (h3[i]-h3[i-1])/dt  # evaporation rate is the difference between two timestamps\n",
    "er[0] = er[1]"
   ]
  },
  {
   "cell_type": "code",
   "execution_count": 13,
   "metadata": {},
   "outputs": [],
   "source": [
    "X = list(zip(t1, h1, t2, h2, t3, h4, af, t4, t5, h3))\n",
    "# X = list(zip(t1, h1, t3, h4, af, t4, t5, h3))\n",
    "Y = er"
   ]
  },
  {
   "cell_type": "code",
   "execution_count": 14,
   "metadata": {},
   "outputs": [],
   "source": [
    "x=np.array(X)\n",
    "y=np.array(Y)\n",
    "\n",
    "# Build a non-linear autoregression model with exogenous inputs\n",
    "# using Random Forest regression as the base model\n",
    "mdl1 = NARX(\n",
    "    RandomForestRegressor(n_estimators=10),\n",
    "    auto_order=2,\n",
    "    exog_order=[1,1,1,1,1,1,1,1,1,1],\n",
    "    exog_delay=[1,1,1,1,1,1,1,1,1,1])\n",
    "mdl1.fit(x, y)\n",
    "ypred1 = mdl1.predict(x, y, step=3)"
   ]
  },
  {
   "cell_type": "code",
   "execution_count": 16,
   "metadata": {},
   "outputs": [],
   "source": [
    "#deleting nan values\n",
    "for i in range(4):\n",
    "         ypred1[i]=0\n",
    "         y[i]=0"
   ]
  },
  {
   "cell_type": "code",
   "execution_count": 17,
   "metadata": {},
   "outputs": [
    {
     "data": {
      "text/plain": [
       "1.8808522387921996e-05"
      ]
     },
     "execution_count": 17,
     "metadata": {},
     "output_type": "execute_result"
    }
   ],
   "source": [
    "mean_squared_error(y,ypred1)"
   ]
  },
  {
   "cell_type": "code",
   "execution_count": null,
   "metadata": {},
   "outputs": [],
   "source": []
  }
 ],
 "metadata": {
  "kernelspec": {
   "display_name": "Python 3",
   "language": "python",
   "name": "python3"
  },
  "language_info": {
   "codemirror_mode": {
    "name": "ipython",
    "version": 3
   },
   "file_extension": ".py",
   "mimetype": "text/x-python",
   "name": "python",
   "nbconvert_exporter": "python",
   "pygments_lexer": "ipython3",
   "version": "3.7.7"
  }
 },
 "nbformat": 4,
 "nbformat_minor": 4
}
