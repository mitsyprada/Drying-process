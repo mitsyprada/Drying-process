{
 "cells": [
  {
   "cell_type": "code",
   "execution_count": 1,
   "metadata": {},
   "outputs": [
    {
     "ename": "SyntaxError",
     "evalue": "invalid syntax (neuralnet.py, line 613)",
     "output_type": "error",
     "traceback": [
      "Traceback \u001b[1;36m(most recent call last)\u001b[0m:\n",
      "  File \u001b[0;32m\"C:\\Users\\mitsy\\OneDrive\\Documentos\\anacon\\lib\\site-packages\\IPython\\core\\interactiveshell.py\"\u001b[0m, line \u001b[0;32m3331\u001b[0m, in \u001b[0;35mrun_code\u001b[0m\n    exec(code_obj, self.user_global_ns, self.user_ns)\n",
      "  File \u001b[0;32m\"<ipython-input-1-064940d328fa>\"\u001b[0m, line \u001b[0;32m4\u001b[0m, in \u001b[0;35m<module>\u001b[0m\n    from pyneurgen.neuralnet import NeuralNet\n",
      "  File \u001b[0;32m\"<frozen importlib._bootstrap>\"\u001b[0m, line \u001b[0;32m983\u001b[0m, in \u001b[0;35m_find_and_load\u001b[0m\n",
      "  File \u001b[0;32m\"<frozen importlib._bootstrap>\"\u001b[0m, line \u001b[0;32m963\u001b[0m, in \u001b[0;35m_find_and_load_unlocked\u001b[0m\n",
      "  File \u001b[0;32m\"<frozen importlib._bootstrap>\"\u001b[0m, line \u001b[0;32m906\u001b[0m, in \u001b[0;35m_find_spec\u001b[0m\n",
      "  File \u001b[0;32m\"<frozen importlib._bootstrap_external>\"\u001b[0m, line \u001b[0;32m1280\u001b[0m, in \u001b[0;35mfind_spec\u001b[0m\n",
      "  File \u001b[0;32m\"<frozen importlib._bootstrap_external>\"\u001b[0m, line \u001b[0;32m1254\u001b[0m, in \u001b[0;35m_get_spec\u001b[0m\n",
      "  File \u001b[0;32m\"<frozen importlib._bootstrap_external>\"\u001b[0m, line \u001b[0;32m1235\u001b[0m, in \u001b[0;35m_legacy_get_spec\u001b[0m\n",
      "  File \u001b[0;32m\"<frozen importlib._bootstrap>\"\u001b[0m, line \u001b[0;32m441\u001b[0m, in \u001b[0;35mspec_from_loader\u001b[0m\n",
      "\u001b[1;36m  File \u001b[1;32m\"<frozen importlib._bootstrap_external>\"\u001b[1;36m, line \u001b[1;32m594\u001b[1;36m, in \u001b[1;35mspec_from_file_location\u001b[1;36m\u001b[0m\n",
      "\u001b[1;36m  File \u001b[1;32m\"C:\\Users\\mitsy\\OneDrive\\Documentos\\anacon\\lib\\site-packages\\pyneurgen-0.3.1-py3.7.egg\\pyneurgen\\neuralnet.py\"\u001b[1;36m, line \u001b[1;32m613\u001b[0m\n\u001b[1;33m    print \"sample: %s errors: %s\" % (\u001b[0m\n\u001b[1;37m                                ^\u001b[0m\n\u001b[1;31mSyntaxError\u001b[0m\u001b[1;31m:\u001b[0m invalid syntax\n"
     ]
    }
   ],
   "source": [
    "import math\n",
    "import numpy as np\n",
    "import matplotlib.pylab as plt\n",
    "from pyneurgen.neuralnet import NeuralNet\n",
    "from pyneurgen.recurrent import NARXRecurrent"
   ]
  },
  {
   "cell_type": "code",
   "execution_count": 1,
   "metadata": {},
   "outputs": [
    {
     "name": "stderr",
     "output_type": "stream",
     "text": [
      "C:\\Users\\mitsy\\OneDrive\\Documentos\\anacon\\lib\\site-packages\\sklearn\\utils\\deprecation.py:144: FutureWarning: The sklearn.metrics.regression module is  deprecated in version 0.22 and will be removed in version 0.24. The corresponding classes / functions should instead be imported from sklearn.metrics. Anything that cannot be imported from sklearn.metrics is now part of the private API.\n",
      "  warnings.warn(message, FutureWarning)\n"
     ]
    },
    {
     "ename": "ModuleNotFoundError",
     "evalue": "No module named 'xgboost'",
     "output_type": "error",
     "traceback": [
      "\u001b[1;31m---------------------------------------------------------------------------\u001b[0m",
      "\u001b[1;31mModuleNotFoundError\u001b[0m                       Traceback (most recent call last)",
      "\u001b[1;32m<ipython-input-1-5e65ca7410a6>\u001b[0m in \u001b[0;36m<module>\u001b[1;34m\u001b[0m\n\u001b[0;32m      1\u001b[0m \u001b[1;32mfrom\u001b[0m \u001b[0mfireTS\u001b[0m\u001b[1;33m.\u001b[0m\u001b[0mmodels\u001b[0m \u001b[1;32mimport\u001b[0m \u001b[0mNARX\u001b[0m\u001b[1;33m,\u001b[0m \u001b[0mDirectAutoRegressor\u001b[0m\u001b[1;33m\u001b[0m\u001b[1;33m\u001b[0m\u001b[0m\n\u001b[0;32m      2\u001b[0m \u001b[1;32mfrom\u001b[0m \u001b[0msklearn\u001b[0m\u001b[1;33m.\u001b[0m\u001b[0mensemble\u001b[0m \u001b[1;32mimport\u001b[0m \u001b[0mRandomForestRegressor\u001b[0m\u001b[1;33m\u001b[0m\u001b[1;33m\u001b[0m\u001b[0m\n\u001b[1;32m----> 3\u001b[1;33m \u001b[1;32mfrom\u001b[0m \u001b[0mxgboost\u001b[0m \u001b[1;32mimport\u001b[0m \u001b[0mXGBRegressor\u001b[0m\u001b[1;33m\u001b[0m\u001b[1;33m\u001b[0m\u001b[0m\n\u001b[0m\u001b[0;32m      4\u001b[0m \u001b[1;32mimport\u001b[0m \u001b[0mnumpy\u001b[0m \u001b[1;32mas\u001b[0m \u001b[0mnp\u001b[0m\u001b[1;33m\u001b[0m\u001b[1;33m\u001b[0m\u001b[0m\n",
      "\u001b[1;31mModuleNotFoundError\u001b[0m: No module named 'xgboost'"
     ]
    }
   ],
   "source": [
    "from fireTS.models import NARX, DirectAutoRegressor\n",
    "from sklearn.ensemble import RandomForestRegressor\n",
    "from xgboost import XGBRegressor\n",
    "import numpy as np"
   ]
  },
  {
   "cell_type": "code",
   "execution_count": 4,
   "metadata": {},
   "outputs": [
    {
     "ename": "NameError",
     "evalue": "name 'NeuralNet' is not defined",
     "output_type": "error",
     "traceback": [
      "\u001b[1;31m---------------------------------------------------------------------------\u001b[0m",
      "\u001b[1;31mNameError\u001b[0m                                 Traceback (most recent call last)",
      "\u001b[1;32m<ipython-input-4-4a7a35b0feb3>\u001b[0m in \u001b[0;36m<module>\u001b[1;34m\u001b[0m\n\u001b[0;32m     46\u001b[0m \u001b[1;33m\u001b[0m\u001b[0m\n\u001b[0;32m     47\u001b[0m \u001b[1;31m# init neural network\u001b[0m\u001b[1;33m\u001b[0m\u001b[1;33m\u001b[0m\u001b[1;33m\u001b[0m\u001b[0m\n\u001b[1;32m---> 48\u001b[1;33m \u001b[0mnet\u001b[0m \u001b[1;33m=\u001b[0m \u001b[0mNeuralNet\u001b[0m\u001b[1;33m(\u001b[0m\u001b[1;33m)\u001b[0m\u001b[1;33m\u001b[0m\u001b[1;33m\u001b[0m\u001b[0m\n\u001b[0m\u001b[0;32m     49\u001b[0m net.init_layers(input_nodes, [hidden_nodes], output_nodes,\n\u001b[0;32m     50\u001b[0m                 NARXRecurrent(output_order, incoming_weight_from_output, \n",
      "\u001b[1;31mNameError\u001b[0m: name 'NeuralNet' is not defined"
     ]
    }
   ],
   "source": [
    "def plot_results(x, y, y_true):\n",
    "    plt.subplot(3, 1, 1)\n",
    "    plt.plot([i[1] for i in population])\n",
    "    plt.title(\"Population\")\n",
    "    plt.grid(True)\n",
    "\n",
    "    plt.subplot(3, 1, 2)\n",
    "    plt.plot(x, y, 'bo', label='targets')\n",
    "    plt.plot(x, y_true, 'ro', label='actuals')\n",
    "    plt.grid(True)\n",
    "    plt.legend(loc='lower left', numpoints=1)\n",
    "    plt.title(\"Test Target Points vs Actual Points\")\n",
    "\n",
    "    plt.subplot(3, 1, 3)\n",
    "    plt.plot(range(1, len(net.accum_mse) + 1, 1), net.accum_mse)\n",
    "    plt.xlabel('epochs')\n",
    "    plt.ylabel('mean squared error')\n",
    "    plt.grid(True)\n",
    "    plt.title(\"Mean Squared Error by Epoch\")\n",
    "    plt.show()\n",
    "\n",
    "def generate_data():\n",
    "    # all samples are drawn from this population\n",
    "    pop_len = 200\n",
    "    factor = 1.0 / float(pop_len)\n",
    "    population = [[i, math.sin(float(i) * factor * 10.0)] for i in range(pop_len)]\n",
    "    population_shuffle = population[:]\n",
    "\n",
    "    all_inputs = []\n",
    "    all_targets = []\n",
    "\n",
    "    np.random.shuffle(population_shuffle)\n",
    "    for position, target in population_shuffle:\n",
    "        all_inputs.append([position * factor])\n",
    "        all_targets.append([target])\n",
    "        # print(all_inputs[-1], all_targets[-1])\n",
    "    return population, all_inputs, all_targets \n",
    "\n",
    "# generate data\n",
    "population, all_inputs, all_targets =  generate_data()\n",
    "\n",
    "# NARXRecurrent\n",
    "input_nodes, hidden_nodes, output_nodes = 1, 10, 1\n",
    "output_order, incoming_weight_from_output = 3, .6\n",
    "input_order, incoming_weight_from_input = 2, .4\n",
    "\n",
    "# init neural network\n",
    "net = NeuralNet()\n",
    "net.init_layers(input_nodes, [hidden_nodes], output_nodes,\n",
    "                NARXRecurrent(output_order, incoming_weight_from_output, \n",
    "                              input_order, incoming_weight_from_input))\n",
    "net.randomize_network()\n",
    "net.set_halt_on_extremes(True)\n",
    "\n",
    "# set constrains and rates\n",
    "net.set_random_constraint(.5)\n",
    "net.set_learnrate(.1)\n",
    "\n",
    "# set inputs and outputs\n",
    "net.set_all_inputs(all_inputs)\n",
    "net.set_all_targets(all_targets)\n",
    "\n",
    "# set lengths\n",
    "length = len(all_inputs)\n",
    "learn_end_point = int(length * .8)\n",
    "\n",
    "# set ranges\n",
    "net.set_learn_range(0, learn_end_point)\n",
    "net.set_test_range(learn_end_point + 1, length - 1)\n",
    "\n",
    "# add activation to layer 1\n",
    "net.layers[1].set_activation_type('tanh')\n",
    "\n",
    "# fit data to model\n",
    "net.learn(epochs=150, show_epoch_results=True, random_testing=False)\n",
    "\n",
    "# define mean squared error\n",
    "mse = net.test()\n",
    "print (\"Testing mse = \"), mse\n",
    "\n",
    "# define data\n",
    "x = [item[0][0] * 200.0 for item in net.get_test_data()]\n",
    "y = [item[0][0] for item in net.test_targets_activations]\n",
    "y_true = [item[1][0] for item in net.test_targets_activations]\n",
    "\n",
    "# plot results\n",
    "plot_results(x, y, y_true)"
   ]
  },
  {
   "cell_type": "code",
   "execution_count": null,
   "metadata": {},
   "outputs": [],
   "source": []
  }
 ],
 "metadata": {
  "kernelspec": {
   "display_name": "Python 3",
   "language": "python",
   "name": "python3"
  },
  "language_info": {
   "codemirror_mode": {
    "name": "ipython",
    "version": 3
   },
   "file_extension": ".py",
   "mimetype": "text/x-python",
   "name": "python",
   "nbconvert_exporter": "python",
   "pygments_lexer": "ipython3",
   "version": "3.7.7"
  }
 },
 "nbformat": 4,
 "nbformat_minor": 4
}
