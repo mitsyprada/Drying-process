{
 "cells": [
  {
   "cell_type": "markdown",
   "metadata": {},
   "source": [
    "# Simulation data"
   ]
  },
  {
   "cell_type": "markdown",
   "metadata": {},
   "source": [
    "Simulation of data coming from sensors and fan. The name of variables match with the references in the input_data_reference file"
   ]
  },
  {
   "cell_type": "code",
   "execution_count": 2,
   "metadata": {},
   "outputs": [],
   "source": [
    "import numpy as np"
   ]
  },
  {
   "cell_type": "code",
   "execution_count": 3,
   "metadata": {},
   "outputs": [],
   "source": [
    "N = 50\n",
    "#temperature values are in degrees celsius\n",
    "t1 = 20 # ambient temperature coming in\n",
    "t2 = np.linspace(40,60,N)#temperature coming out of the box\n",
    "t3 = np.linspace(60,80,N)\n",
    "t4 = np.linspace(70,100,N)\n",
    "t5 = np.linspace(80,95,N)\n",
    "#humidity values in grams/m^3\n",
    "h1 = np.linspace(20,30,N)# absolute humidity in grams of water per cubic meter of air. Absolute humidity in the atmosphere ranges from near zero to roughly 30 grams per cubic metre when the air is saturated at 30 °C\n",
    "h2 = np.linspace(30,40,N)\n",
    "h3 = np.linspace(60,80,N)\n",
    "h4 = np.linspace(40,50,N)\n",
    "f1 = [0,1] #0 is off and 1 is on\n",
    "f2 = [0,1]\n",
    "wm = [0,120]#Watts\n",
    "af = np.linspace(5,20,N)#in liters per second\n"
   ]
  },
  {
   "cell_type": "code",
   "execution_count": null,
   "metadata": {},
   "outputs": [],
   "source": []
  }
 ],
 "metadata": {
  "kernelspec": {
   "display_name": "Python 3",
   "language": "python",
   "name": "python3"
  },
  "language_info": {
   "codemirror_mode": {
    "name": "ipython",
    "version": 3
   },
   "file_extension": ".py",
   "mimetype": "text/x-python",
   "name": "python",
   "nbconvert_exporter": "python",
   "pygments_lexer": "ipython3",
   "version": "3.7.7"
  }
 },
 "nbformat": 4,
 "nbformat_minor": 4
}
